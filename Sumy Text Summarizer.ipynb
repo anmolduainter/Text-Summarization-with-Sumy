{
 "cells": [
  {
   "cell_type": "code",
   "execution_count": 2,
   "metadata": {},
   "outputs": [],
   "source": [
    "from __future__ import absolute_import\n",
    "from __future__ import division, print_function, unicode_literals\n",
    "\n",
    "from sumy.parsers.html import HtmlParser\n",
    "from sumy.parsers.plaintext import PlaintextParser\n",
    "from sumy.nlp.tokenizers import Tokenizer\n",
    "from sumy.summarizers.lsa import LsaSummarizer as Summarizer\n",
    "from sumy.nlp.stemmers import Stemmer\n",
    "from sumy.utils import get_stop_words"
   ]
  },
  {
   "cell_type": "code",
   "execution_count": 6,
   "metadata": {},
   "outputs": [],
   "source": [
    "# English\n",
    "LANGUAGE = \"english\"\n",
    "SENTENCES_COUNT = 10"
   ]
  },
  {
   "cell_type": "code",
   "execution_count": 7,
   "metadata": {},
   "outputs": [],
   "source": [
    "file_pth = 'StephenHawking.txt'"
   ]
  },
  {
   "cell_type": "code",
   "execution_count": 8,
   "metadata": {},
   "outputs": [],
   "source": [
    "parser = PlaintextParser.from_file(file_pth, Tokenizer(LANGUAGE))"
   ]
  },
  {
   "cell_type": "code",
   "execution_count": 10,
   "metadata": {},
   "outputs": [
    {
     "name": "stdout",
     "output_type": "stream",
     "text": [
      "Hawking went on to Cambridge to research cosmology, the study of the universe as a whole.\n",
      "Completing his doctorate did not appear likely.\n",
      "Yet, Hawking defied the odds, not only attaining his Ph.D. but also forging new roads into the understanding of the universe in the decades since.\n",
      "As the disease spread, Hawking became less mobile and began using a wheelchair.\n",
      "Talking grew more challenging and, in 1985, an emergency tracheotomy caused his total loss of speech.\n",
      "Just before his diagnosis, Hawking met Jane Wilde, and the two were married in 1965.\n",
      "The couple had three children before separating.\n",
      "Hawking continued at Cambridge after his graduation, serving as a research fellow and later as a professional fellow.\n",
      "Using the two theories together, Hawking also determined that black holes are not totally silent but instead emit radiation.\n",
      "He predicted that, following the Big Bang, black holes as tiny as protons were created, governed by both general relativity and quantum mechanics.\n"
     ]
    }
   ],
   "source": [
    "## LEX rank\n",
    "\n",
    "from sumy.summarizers.lex_rank import LexRankSummarizer \n",
    "summarizer = LexRankSummarizer()\n",
    "#Summarize the document with 2 sentences\n",
    "summary = summarizer(parser.document, 10) \n",
    "for sentence in summary:\n",
    "    print(sentence)"
   ]
  },
  {
   "cell_type": "code",
   "execution_count": 12,
   "metadata": {},
   "outputs": [
    {
     "name": "stdout",
     "output_type": "stream",
     "text": [
      "Hawking went on to Cambridge to research cosmology, the study of the universe as a whole.\n",
      "Yet, Hawking defied the odds, not only attaining his Ph.D. but also forging new roads into the understanding of the universe in the decades since.\n",
      "Hawking continued at Cambridge after his graduation, serving as a research fellow and later as a professional fellow.\n",
      "Working with fellow cosmologist Roger Penrose, he demonstrated that Albert Einstein's Theory of General Relativity suggests that space and time began at the birth of the universe and ends within black holes, which implies that Einstein's theory and quantum theory must be united.\n",
      "He predicted that, following the Big Bang, black holes as tiny as protons were created, governed by both general relativity and quantum mechanics.\n"
     ]
    }
   ],
   "source": [
    "## Luhn (Earlier Algo by IBM Researchers)\n",
    "\n",
    "from sumy.summarizers.luhn import LuhnSummarizer\n",
    "summarizer_1 = LuhnSummarizer()\n",
    "summary_1 =summarizer_1(parser.document,5)\n",
    "for sentence in summary_1:\n",
    "    print(sentence)"
   ]
  },
  {
   "cell_type": "code",
   "execution_count": 14,
   "metadata": {},
   "outputs": [
    {
     "name": "stdout",
     "output_type": "stream",
     "text": [
      "As the disease spread, Hawking became less mobile and began using a wheelchair.\n",
      "Talking grew more challenging and, in 1985, an emergency tracheotomy caused his total loss of speech.\n",
      "Just before his diagnosis, Hawking met Jane Wilde, and the two were married in 1965.\n",
      "In 1974, he was inducted into the Royal Society, a worldwide fellowship of scientists.\n",
      "Using the two theories together, Hawking also determined that black holes are not totally silent but instead emit radiation.\n"
     ]
    }
   ],
   "source": [
    "## Latent Symentic Analysis\n",
    "\n",
    "from sumy.summarizers.lsa import LsaSummarizer\n",
    "summarizer_2 = LsaSummarizer()\n",
    "summary_2 =summarizer_2(parser.document,5)\n",
    "for sentence in summary_2:\n",
    "    print(sentence)"
   ]
  },
  {
   "cell_type": "code",
   "execution_count": 15,
   "metadata": {},
   "outputs": [
    {
     "name": "stdout",
     "output_type": "stream",
     "text": [
      "British cosmologist Stephen William Hawking was born in England on Jan. 8, 1942 — 300 years to the day after the death of the astronomer Galileo Galilei.\n",
      "Yet, Hawking defied the odds, not only attaining his Ph.D. but also forging new roads into the understanding of the universe in the decades since.\n",
      "In 1979, he was appointed Lucasian Professor of Mathematics at Cambridge, the most famous academic chair in the world (the second holder was Sir Isaac Newton, also a member of the Royal Society.\n",
      "Over the course of his career, Hawking studied the basic laws governing the universe.\n",
      "Working with fellow cosmologist Roger Penrose, he demonstrated that Albert Einstein's Theory of General Relativity suggests that space and time began at the birth of the universe and ends within black holes, which implies that Einstein's theory and quantum theory must be united.\n"
     ]
    }
   ],
   "source": [
    "## Text Rank\n",
    "\n",
    "from sumy.summarizers.text_rank import TextRankSummarizer\n",
    "summarizer_3 = TextRankSummarizer()\n",
    "summary_3 =summarizer_3(parser.document,5)\n",
    "for sentence in summary_3:\n",
    "    print(sentence)"
   ]
  },
  {
   "cell_type": "code",
   "execution_count": null,
   "metadata": {},
   "outputs": [],
   "source": []
  }
 ],
 "metadata": {
  "kernelspec": {
   "display_name": "Python 2",
   "language": "python",
   "name": "python2"
  },
  "language_info": {
   "codemirror_mode": {
    "name": "ipython",
    "version": 2
   },
   "file_extension": ".py",
   "mimetype": "text/x-python",
   "name": "python",
   "nbconvert_exporter": "python",
   "pygments_lexer": "ipython2",
   "version": "2.7.14"
  }
 },
 "nbformat": 4,
 "nbformat_minor": 2
}
